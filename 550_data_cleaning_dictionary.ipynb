{
 "cells": [
  {
   "cell_type": "code",
   "execution_count": 1,
   "id": "abaaf478",
   "metadata": {},
   "outputs": [],
   "source": [
    "import pandas as pd\n",
    "import gzip\n",
    "import json\n",
    "import numpy as np\n",
    "import math\n",
    "from random import randint\n",
    "\n"
   ]
  },
  {
   "cell_type": "code",
   "execution_count": null,
   "id": "39326076",
   "metadata": {},
   "outputs": [],
   "source": [
    "def parse(path):\n",
    "  g = gzip.open(path, 'rb')\n",
    "  for l in g:\n",
    "    yield json.loads(l)\n",
    "\n",
    "def getDF(path):\n",
    "  i = 0\n",
    "  df = {}\n",
    "  for d in parse(path):\n",
    "    df[i] = d\n",
    "    i += 1\n",
    "  return pd.DataFrame.from_dict(df, orient='index')\n",
    "\n",
    "df = getDF('Digital_Music.json.gz')"
   ]
  },
  {
   "cell_type": "code",
   "execution_count": null,
   "id": "cfa73c09",
   "metadata": {},
   "outputs": [],
   "source": [
    "df_clean = df.drop(columns=['reviewTime', 'reviewerName', 'reviewText', 'summary', 'unixReviewTime', 'style', 'image', 'vote', 'verified'])"
   ]
  },
  {
   "cell_type": "code",
   "execution_count": null,
   "id": "bb15f023",
   "metadata": {},
   "outputs": [],
   "source": []
  },
  {
   "cell_type": "code",
   "execution_count": null,
   "id": "ebd8d33b",
   "metadata": {},
   "outputs": [],
   "source": []
  },
  {
   "cell_type": "code",
   "execution_count": null,
   "id": "fbd98d7d",
   "metadata": {},
   "outputs": [],
   "source": [
    "#Filtering the data by number of reviews before making pivot table to ease memory constraints\n",
    "#Here threshold is inclusive (n or more reviews will be kept)\n",
    "user_thresh = 5\n",
    "item_thresh = 3\n",
    "pre_pivot = df_clean[df_clean.groupby(['reviewerID'])['reviewerID'].transform('size') >= user_thresh]\n",
    "pre_pivot2 = pre_pivot[pre_pivot.groupby(['asin'])['asin'].transform('size') >= item_thresh]"
   ]
  },
  {
   "cell_type": "code",
   "execution_count": null,
   "id": "abe8e16c-1d1e-4aa5-bc48-fa9542e7f980",
   "metadata": {},
   "outputs": [],
   "source": []
  },
  {
   "cell_type": "code",
   "execution_count": null,
   "id": "e68f8889",
   "metadata": {},
   "outputs": [],
   "source": [
    "full_dict = {}"
   ]
  },
  {
   "cell_type": "code",
   "execution_count": null,
   "id": "7893cb2a",
   "metadata": {},
   "outputs": [],
   "source": [
    "for index, row in pre_pivot2.iterrows():\n",
    "    if row['reviewerID'] in full_dict: \n",
    "        full_dict[row['reviewerID']].append(([row['asin'], row['overall']]))\n",
    "    else:\n",
    "        full_dict[row['reviewerID']] = ([[row['asin'], row['overall']]])"
   ]
  },
  {
   "cell_type": "code",
   "execution_count": null,
   "id": "b8b78dfc",
   "metadata": {},
   "outputs": [],
   "source": [
    "full_dict['AJO3UG6FR5C7R']"
   ]
  },
  {
   "cell_type": "code",
   "execution_count": null,
   "id": "5ca951e3",
   "metadata": {},
   "outputs": [],
   "source": [
    "len(full_dict)"
   ]
  },
  {
   "cell_type": "code",
   "execution_count": null,
   "id": "6ba99a13",
   "metadata": {},
   "outputs": [],
   "source": [
    "pruned_dict = {}\n",
    "for key in full_dict:\n",
    "    if len(full_dict[key]) >= 5:\n",
    "        pruned_dict[key] = full_dict[key]\n",
    "len(pruned_dict)"
   ]
  },
  {
   "cell_type": "code",
   "execution_count": null,
   "id": "7703c16e",
   "metadata": {},
   "outputs": [],
   "source": [
    "list(pruned_dict.items())[:10]"
   ]
  },
  {
   "cell_type": "code",
   "execution_count": null,
   "id": "7f9e7ea3",
   "metadata": {},
   "outputs": [],
   "source": []
  },
  {
   "cell_type": "code",
   "execution_count": null,
   "id": "3576bd38",
   "metadata": {},
   "outputs": [],
   "source": [
    "test_dict = {}\n",
    "for key in pruned_dict:\n",
    "    take = math.floor(len(pruned_dict[key])/5)\n",
    "    for i in range(take):\n",
    "        rand = randint(0, len(pruned_dict[key]) - 1)\n",
    "        if key in test_dict: \n",
    "            test_dict[key].append(pruned_dict[key].pop(rand))\n",
    "        else:\n",
    "            test_dict[key] = ([pruned_dict[key].pop(rand)])\n",
    "        "
   ]
  },
  {
   "cell_type": "code",
   "execution_count": null,
   "id": "76c94db6",
   "metadata": {},
   "outputs": [],
   "source": [
    "train_dict = pruned_dict"
   ]
  },
  {
   "cell_type": "code",
   "execution_count": null,
   "id": "b32c9c32",
   "metadata": {},
   "outputs": [],
   "source": [
    "len(test_dict)"
   ]
  },
  {
   "cell_type": "code",
   "execution_count": null,
   "id": "9837c8d8",
   "metadata": {},
   "outputs": [],
   "source": [
    "list(train_dict.items())[:10]"
   ]
  },
  {
   "cell_type": "code",
   "execution_count": null,
   "id": "e7b53888",
   "metadata": {},
   "outputs": [],
   "source": [
    "list(test_dict.items())[:10]"
   ]
  }
 ],
 "metadata": {
  "kernelspec": {
   "display_name": "Python 3 (ipykernel)",
   "language": "python",
   "name": "python3"
  },
  "language_info": {
   "codemirror_mode": {
    "name": "ipython",
    "version": 3
   },
   "file_extension": ".py",
   "mimetype": "text/x-python",
   "name": "python",
   "nbconvert_exporter": "python",
   "pygments_lexer": "ipython3",
   "version": "3.9.7"
  }
 },
 "nbformat": 4,
 "nbformat_minor": 5
}
