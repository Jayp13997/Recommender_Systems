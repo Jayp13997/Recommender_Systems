{
 "cells": [
  {
   "cell_type": "code",
   "execution_count": 20,
   "id": "abaaf478",
   "metadata": {},
   "outputs": [],
   "source": [
    "import pandas as pd\n",
    "import gzip\n",
    "import json\n",
    "import numpy as np\n",
    "import math\n",
    "from random import randint\n",
    "\n"
   ]
  },
  {
   "cell_type": "code",
   "execution_count": 21,
   "id": "39326076",
   "metadata": {},
   "outputs": [],
   "source": [
    "def parse(path):\n",
    "  g = gzip.open(path, 'rb')\n",
    "  for l in g:\n",
    "    yield json.loads(l)\n",
    "\n",
    "def getDF(path):\n",
    "  i = 0\n",
    "  df = {}\n",
    "  for d in parse(path):\n",
    "    df[i] = d\n",
    "    i += 1\n",
    "  return pd.DataFrame.from_dict(df, orient='index')\n",
    "\n",
    "df = getDF('Digital_Music.json.gz')"
   ]
  },
  {
   "cell_type": "code",
   "execution_count": 22,
   "id": "cfa73c09",
   "metadata": {},
   "outputs": [],
   "source": [
    "df_clean = df.drop(columns=['reviewTime', 'reviewerName', 'reviewText', 'summary', 'unixReviewTime', 'style', 'image', 'vote', 'verified'])"
   ]
  },
  {
   "cell_type": "code",
   "execution_count": null,
   "id": "bb15f023",
   "metadata": {},
   "outputs": [],
   "source": []
  },
  {
   "cell_type": "code",
   "execution_count": null,
   "id": "ebd8d33b",
   "metadata": {},
   "outputs": [],
   "source": []
  },
  {
   "cell_type": "code",
   "execution_count": 23,
   "id": "fbd98d7d",
   "metadata": {},
   "outputs": [],
   "source": [
    "#Filtering the data by number of reviews before making pivot table to ease memory constraints\n",
    "#Here threshold is inclusive (n or more reviews will be kept)\n",
    "user_thresh = 5\n",
    "item_thresh = 3\n",
    "pre_pivot = df_clean[df_clean.groupby(['reviewerID'])['reviewerID'].transform('size') >= user_thresh]\n",
    "pre_pivot2 = pre_pivot[pre_pivot.groupby(['asin'])['asin'].transform('size') >= item_thresh]"
   ]
  },
  {
   "cell_type": "code",
   "execution_count": null,
   "id": "abe8e16c-1d1e-4aa5-bc48-fa9542e7f980",
   "metadata": {},
   "outputs": [],
   "source": []
  },
  {
   "cell_type": "code",
   "execution_count": 24,
   "id": "e68f8889",
   "metadata": {},
   "outputs": [],
   "source": [
    "full_dict = {}"
   ]
  },
  {
   "cell_type": "code",
   "execution_count": 25,
   "id": "7893cb2a",
   "metadata": {},
   "outputs": [],
   "source": [
    "for index, row in pre_pivot2.iterrows():\n",
    "    if row['reviewerID'] in full_dict: \n",
    "        full_dict[row['reviewerID']].append(([row['asin'], row['overall']]))\n",
    "    else:\n",
    "        full_dict[row['reviewerID']] = ([[row['asin'], row['overall']]])"
   ]
  },
  {
   "cell_type": "code",
   "execution_count": 26,
   "id": "b8b78dfc",
   "metadata": {},
   "outputs": [
    {
     "data": {
      "text/plain": [
       "[['0001388703', 5.0], ['B000V64UXQ', 5.0], ['B001BIDEY4', 5.0]]"
      ]
     },
     "execution_count": 26,
     "metadata": {},
     "output_type": "execute_result"
    }
   ],
   "source": [
    "full_dict['AJO3UG6FR5C7R']"
   ]
  },
  {
   "cell_type": "code",
   "execution_count": 27,
   "id": "5ca951e3",
   "metadata": {},
   "outputs": [
    {
     "data": {
      "text/plain": [
       "43336"
      ]
     },
     "execution_count": 27,
     "metadata": {},
     "output_type": "execute_result"
    }
   ],
   "source": [
    "len(full_dict)"
   ]
  },
  {
   "cell_type": "code",
   "execution_count": 28,
   "id": "6ba99a13",
   "metadata": {},
   "outputs": [
    {
     "data": {
      "text/plain": [
       "23958"
      ]
     },
     "execution_count": 28,
     "metadata": {},
     "output_type": "execute_result"
    }
   ],
   "source": [
    "pruned_dict = {}\n",
    "for key in full_dict:\n",
    "    if len(full_dict[key]) >= 5:\n",
    "        pruned_dict[key] = full_dict[key]\n",
    "len(pruned_dict)"
   ]
  },
  {
   "cell_type": "code",
   "execution_count": 29,
   "id": "7703c16e",
   "metadata": {},
   "outputs": [
    {
     "data": {
      "text/plain": [
       "[('A12R54MKO17TW0',\n",
       "  [['0001388703', 5.0],\n",
       "   ['B000VZJS84', 5.0],\n",
       "   ['B000WLNUN6', 5.0],\n",
       "   ['B001232RGE', 5.0],\n",
       "   ['B00123KDR4', 5.0],\n",
       "   ['B000VZJS84', 5.0],\n",
       "   ['B000WLNUN6', 5.0],\n",
       "   ['B001232RGE', 5.0],\n",
       "   ['B00123KDR4', 5.0],\n",
       "   ['B0019M5J6S', 5.0],\n",
       "   ['B001BHWEAA', 3.0],\n",
       "   ['B001FSB0C8', 5.0],\n",
       "   ['B001MD0GNK', 5.0],\n",
       "   ['B002R4K6AG', 3.0],\n",
       "   ['B00382MONS', 5.0],\n",
       "   ['B0045QJ7UO', 4.0],\n",
       "   ['B01929H4VM', 5.0],\n",
       "   ['B0007ZWQNC', 5.0],\n",
       "   ['B000E1B00O', 5.0],\n",
       "   ['B000GWCIOS', 5.0],\n",
       "   ['B000MRU1B4', 5.0],\n",
       "   ['B0019M3TWE', 5.0],\n",
       "   ['B001PJ5SX4', 4.0],\n",
       "   ['B0048P1XXQ', 5.0]]),\n",
       " ('A27P44I54RUMDC',\n",
       "  [['0001388703', 5.0],\n",
       "   ['0001526146', 3.0],\n",
       "   ['B000E1B00O', 5.0],\n",
       "   ['B004QMR6KA', 4.0],\n",
       "   ['B00973AF0G', 5.0],\n",
       "   ['5552256646', 4.0]]),\n",
       " ('A3INJI4T4U2JJS',\n",
       "  [['0001526146', 5.0],\n",
       "   ['B00136J7ZE', 5.0],\n",
       "   ['B00136J7ZE', 5.0],\n",
       "   ['B009CVYYFU', 5.0],\n",
       "   ['B00IJUC4WK', 4.0],\n",
       "   ['B00B8IONO2', 5.0]]),\n",
       " ('A3FVAWZNKW9GX',\n",
       "  [['0001377647', 5.0],\n",
       "   ['B000QVXDR0', 5.0],\n",
       "   ['B000S56380', 5.0],\n",
       "   ['B000T1EJ0W', 5.0],\n",
       "   ['B000TDWSYO', 5.0],\n",
       "   ['B000VZO4TW', 5.0],\n",
       "   ['B000W15BBK', 5.0],\n",
       "   ['B0010WLQXW', 5.0],\n",
       "   ['B0011Z77TA', 5.0],\n",
       "   ['B0011Z8P8M', 3.0],\n",
       "   ['B00122OMC2', 5.0],\n",
       "   ['B001386SW2', 5.0],\n",
       "   ['B00138JAD6', 5.0],\n",
       "   ['B0013HYLT0', 5.0],\n",
       "   ['B000VZO4TW', 5.0],\n",
       "   ['B000W15BBK', 5.0],\n",
       "   ['B0010WLQXW', 5.0],\n",
       "   ['B0011Z77TA', 5.0],\n",
       "   ['B0011Z8P8M', 3.0],\n",
       "   ['B00122OMC2', 5.0],\n",
       "   ['B001386SW2', 5.0],\n",
       "   ['B00138JAD6', 5.0],\n",
       "   ['B0013HYLT0', 5.0],\n",
       "   ['B001BHHTR8', 5.0],\n",
       "   ['B001NTUDEU', 5.0],\n",
       "   ['B005RJEQ2W', 5.0],\n",
       "   ['B006ONY954', 5.0],\n",
       "   ['B00H9EEUD8', 5.0],\n",
       "   ['B00NPX05QI', 3.0],\n",
       "   ['B001NCOO1U', 5.0],\n",
       "   ['B001NYGFME', 5.0],\n",
       "   ['B004ZKL9A6', 5.0],\n",
       "   ['B00L1SLE5K', 5.0]]),\n",
       " ('A27SJD1VM73SMM',\n",
       "  [['0006920055', 5.0],\n",
       "   ['B00CI272L8', 5.0],\n",
       "   ['B00DPJ0JYA', 5.0],\n",
       "   ['B00FZFRVPW', 5.0],\n",
       "   ['B00G7HG10I', 5.0],\n",
       "   ['B00GWZ03YK', 5.0],\n",
       "   ['B00JG9PEI4', 5.0],\n",
       "   ['B00OE1VG6I', 5.0],\n",
       "   ['B00P77HNL0', 5.0],\n",
       "   ['B00P7N0Y6K', 5.0],\n",
       "   ['B00GTUHDL4', 5.0],\n",
       "   ['B00PWNBIWY', 5.0]]),\n",
       " ('A1BVU7F2T8EUKS',\n",
       "  [['0006920055', 4.0],\n",
       "   ['0760135886', 4.0],\n",
       "   ['B0001PICSG', 5.0],\n",
       "   ['B00025G1H4', 4.0],\n",
       "   ['B000E1B00O', 4.0],\n",
       "   ['B003MTZ2FE', 5.0],\n",
       "   ['B0008F6P9C', 4.0],\n",
       "   ['B004Z4ZN4A', 3.0]]),\n",
       " ('A16TZRNJAH1V0B',\n",
       "  [['0006920055', 5.0],\n",
       "   ['B00920DU6A', 5.0],\n",
       "   ['B00VG2QNFM', 5.0],\n",
       "   ['B0058V8SDW', 5.0],\n",
       "   ['B008723K96', 5.0],\n",
       "   ['B009G8G3FS', 5.0],\n",
       "   ['B00EWS7JW8', 5.0],\n",
       "   ['B00VBM52L8', 5.0],\n",
       "   ['B016FQPWBE', 5.0]]),\n",
       " ('A1U1V9U9IS8F5B',\n",
       "  [['0006920055', 5.0],\n",
       "   ['B000TGGTIC', 4.0],\n",
       "   ['B00136NNN6', 5.0],\n",
       "   ['B00136NNN6', 5.0],\n",
       "   ['B002HP8EKE', 5.0],\n",
       "   ['B000TEDPJK', 5.0],\n",
       "   ['B00138HSNU', 3.0]]),\n",
       " ('A33KPK0QBSSDWS',\n",
       "  [['0006920055', 5.0],\n",
       "   ['B000SZIR0C', 5.0],\n",
       "   ['B001GYWIMC', 4.0],\n",
       "   ['B000TDSR3K', 5.0],\n",
       "   ['B000TE0MYG', 5.0],\n",
       "   ['B00122KXE8', 5.0],\n",
       "   ['B00137VPB2', 5.0],\n",
       "   ['B001386Z84', 5.0]]),\n",
       " ('A2TYZ821XXK2YZ',\n",
       "  [['3426958910', 5.0],\n",
       "   ['B00MYPUDMY', 4.0],\n",
       "   ['B00YI4B79W', 5.0],\n",
       "   ['B00YIB0R9Q', 5.0],\n",
       "   ['B012BPYS7M', 5.0],\n",
       "   ['B015U2LLIW', 5.0],\n",
       "   ['B01AUA1MC4', 5.0],\n",
       "   ['B01DQ6ON70', 5.0],\n",
       "   ['B01DQ6ONVG', 5.0],\n",
       "   ['B01EDA9EPE', 5.0],\n",
       "   ['B002T66I1S', 5.0],\n",
       "   ['B004YMT85I', 5.0],\n",
       "   ['B00FGD8OCM', 5.0],\n",
       "   ['B00Z86V3ZM', 5.0],\n",
       "   ['B019EPSNT6', 5.0]])]"
      ]
     },
     "execution_count": 29,
     "metadata": {},
     "output_type": "execute_result"
    }
   ],
   "source": [
    "list(pruned_dict.items())[:10]"
   ]
  },
  {
   "cell_type": "code",
   "execution_count": null,
   "id": "7f9e7ea3",
   "metadata": {},
   "outputs": [],
   "source": []
  },
  {
   "cell_type": "code",
   "execution_count": 30,
   "id": "3576bd38",
   "metadata": {},
   "outputs": [],
   "source": [
    "test_dict = {}\n",
    "for key in pruned_dict:\n",
    "    take = math.floor(len(pruned_dict[key])/5)\n",
    "    for i in range(take):\n",
    "        rand = randint(0, len(pruned_dict[key]) - 1)\n",
    "        if key in test_dict: \n",
    "            test_dict[key].append(pruned_dict[key].pop(rand))\n",
    "        else:\n",
    "            test_dict[key] = ([pruned_dict[key].pop(rand)])\n",
    "        "
   ]
  },
  {
   "cell_type": "code",
   "execution_count": 31,
   "id": "76c94db6",
   "metadata": {},
   "outputs": [],
   "source": [
    "train_dict = pruned_dict"
   ]
  },
  {
   "cell_type": "code",
   "execution_count": 32,
   "id": "b32c9c32",
   "metadata": {},
   "outputs": [
    {
     "data": {
      "text/plain": [
       "23958"
      ]
     },
     "execution_count": 32,
     "metadata": {},
     "output_type": "execute_result"
    }
   ],
   "source": [
    "len(test_dict)"
   ]
  },
  {
   "cell_type": "code",
   "execution_count": 33,
   "id": "9837c8d8",
   "metadata": {},
   "outputs": [
    {
     "data": {
      "text/plain": [
       "[('A12R54MKO17TW0',\n",
       "  [['0001388703', 5.0],\n",
       "   ['B000VZJS84', 5.0],\n",
       "   ['B000WLNUN6', 5.0],\n",
       "   ['B001232RGE', 5.0],\n",
       "   ['B000VZJS84', 5.0],\n",
       "   ['B000WLNUN6', 5.0],\n",
       "   ['B001232RGE', 5.0],\n",
       "   ['B00123KDR4', 5.0],\n",
       "   ['B001BHWEAA', 3.0],\n",
       "   ['B001MD0GNK', 5.0],\n",
       "   ['B002R4K6AG', 3.0],\n",
       "   ['B00382MONS', 5.0],\n",
       "   ['B0045QJ7UO', 4.0],\n",
       "   ['B0007ZWQNC', 5.0],\n",
       "   ['B000E1B00O', 5.0],\n",
       "   ['B000GWCIOS', 5.0],\n",
       "   ['B000MRU1B4', 5.0],\n",
       "   ['B0019M3TWE', 5.0],\n",
       "   ['B001PJ5SX4', 4.0],\n",
       "   ['B0048P1XXQ', 5.0]]),\n",
       " ('A27P44I54RUMDC',\n",
       "  [['0001388703', 5.0],\n",
       "   ['0001526146', 3.0],\n",
       "   ['B004QMR6KA', 4.0],\n",
       "   ['B00973AF0G', 5.0],\n",
       "   ['5552256646', 4.0]]),\n",
       " ('A3INJI4T4U2JJS',\n",
       "  [['0001526146', 5.0],\n",
       "   ['B00136J7ZE', 5.0],\n",
       "   ['B00136J7ZE', 5.0],\n",
       "   ['B009CVYYFU', 5.0],\n",
       "   ['B00B8IONO2', 5.0]]),\n",
       " ('A3FVAWZNKW9GX',\n",
       "  [['0001377647', 5.0],\n",
       "   ['B000QVXDR0', 5.0],\n",
       "   ['B000S56380', 5.0],\n",
       "   ['B000T1EJ0W', 5.0],\n",
       "   ['B000TDWSYO', 5.0],\n",
       "   ['B000VZO4TW', 5.0],\n",
       "   ['B000W15BBK', 5.0],\n",
       "   ['B0010WLQXW', 5.0],\n",
       "   ['B0011Z8P8M', 3.0],\n",
       "   ['B00122OMC2', 5.0],\n",
       "   ['B001386SW2', 5.0],\n",
       "   ['B00138JAD6', 5.0],\n",
       "   ['B000W15BBK', 5.0],\n",
       "   ['B0010WLQXW', 5.0],\n",
       "   ['B0011Z77TA', 5.0],\n",
       "   ['B0011Z8P8M', 3.0],\n",
       "   ['B00138JAD6', 5.0],\n",
       "   ['B0013HYLT0', 5.0],\n",
       "   ['B001BHHTR8', 5.0],\n",
       "   ['B005RJEQ2W', 5.0],\n",
       "   ['B006ONY954', 5.0],\n",
       "   ['B00H9EEUD8', 5.0],\n",
       "   ['B00NPX05QI', 3.0],\n",
       "   ['B001NCOO1U', 5.0],\n",
       "   ['B001NYGFME', 5.0],\n",
       "   ['B004ZKL9A6', 5.0],\n",
       "   ['B00L1SLE5K', 5.0]]),\n",
       " ('A27SJD1VM73SMM',\n",
       "  [['0006920055', 5.0],\n",
       "   ['B00CI272L8', 5.0],\n",
       "   ['B00DPJ0JYA', 5.0],\n",
       "   ['B00FZFRVPW', 5.0],\n",
       "   ['B00G7HG10I', 5.0],\n",
       "   ['B00GWZ03YK', 5.0],\n",
       "   ['B00JG9PEI4', 5.0],\n",
       "   ['B00OE1VG6I', 5.0],\n",
       "   ['B00P77HNL0', 5.0],\n",
       "   ['B00GTUHDL4', 5.0]]),\n",
       " ('A1BVU7F2T8EUKS',\n",
       "  [['0006920055', 4.0],\n",
       "   ['0760135886', 4.0],\n",
       "   ['B00025G1H4', 4.0],\n",
       "   ['B000E1B00O', 4.0],\n",
       "   ['B003MTZ2FE', 5.0],\n",
       "   ['B0008F6P9C', 4.0],\n",
       "   ['B004Z4ZN4A', 3.0]]),\n",
       " ('A16TZRNJAH1V0B',\n",
       "  [['0006920055', 5.0],\n",
       "   ['B00VG2QNFM', 5.0],\n",
       "   ['B0058V8SDW', 5.0],\n",
       "   ['B008723K96', 5.0],\n",
       "   ['B009G8G3FS', 5.0],\n",
       "   ['B00EWS7JW8', 5.0],\n",
       "   ['B00VBM52L8', 5.0],\n",
       "   ['B016FQPWBE', 5.0]]),\n",
       " ('A1U1V9U9IS8F5B',\n",
       "  [['0006920055', 5.0],\n",
       "   ['B000TGGTIC', 4.0],\n",
       "   ['B00136NNN6', 5.0],\n",
       "   ['B002HP8EKE', 5.0],\n",
       "   ['B000TEDPJK', 5.0],\n",
       "   ['B00138HSNU', 3.0]]),\n",
       " ('A33KPK0QBSSDWS',\n",
       "  [['0006920055', 5.0],\n",
       "   ['B000SZIR0C', 5.0],\n",
       "   ['B000TDSR3K', 5.0],\n",
       "   ['B000TE0MYG', 5.0],\n",
       "   ['B00122KXE8', 5.0],\n",
       "   ['B00137VPB2', 5.0],\n",
       "   ['B001386Z84', 5.0]]),\n",
       " ('A2TYZ821XXK2YZ',\n",
       "  [['3426958910', 5.0],\n",
       "   ['B00YI4B79W', 5.0],\n",
       "   ['B00YIB0R9Q', 5.0],\n",
       "   ['B012BPYS7M', 5.0],\n",
       "   ['B015U2LLIW', 5.0],\n",
       "   ['B01AUA1MC4', 5.0],\n",
       "   ['B01DQ6ON70', 5.0],\n",
       "   ['B01DQ6ONVG', 5.0],\n",
       "   ['B01EDA9EPE', 5.0],\n",
       "   ['B002T66I1S', 5.0],\n",
       "   ['B004YMT85I', 5.0],\n",
       "   ['B00Z86V3ZM', 5.0]])]"
      ]
     },
     "execution_count": 33,
     "metadata": {},
     "output_type": "execute_result"
    }
   ],
   "source": [
    "list(train_dict.items())[:10]"
   ]
  },
  {
   "cell_type": "code",
   "execution_count": 34,
   "id": "e7b53888",
   "metadata": {},
   "outputs": [
    {
     "data": {
      "text/plain": [
       "[('A12R54MKO17TW0',\n",
       "  [['B001FSB0C8', 5.0],\n",
       "   ['B00123KDR4', 5.0],\n",
       "   ['B0019M5J6S', 5.0],\n",
       "   ['B01929H4VM', 5.0]]),\n",
       " ('A27P44I54RUMDC', [['B000E1B00O', 5.0]]),\n",
       " ('A3INJI4T4U2JJS', [['B00IJUC4WK', 4.0]]),\n",
       " ('A3FVAWZNKW9GX',\n",
       "  [['B001NTUDEU', 5.0],\n",
       "   ['B0011Z77TA', 5.0],\n",
       "   ['B00122OMC2', 5.0],\n",
       "   ['B000VZO4TW', 5.0],\n",
       "   ['B0013HYLT0', 5.0],\n",
       "   ['B001386SW2', 5.0]]),\n",
       " ('A27SJD1VM73SMM', [['B00P7N0Y6K', 5.0], ['B00PWNBIWY', 5.0]]),\n",
       " ('A1BVU7F2T8EUKS', [['B0001PICSG', 5.0]]),\n",
       " ('A16TZRNJAH1V0B', [['B00920DU6A', 5.0]]),\n",
       " ('A1U1V9U9IS8F5B', [['B00136NNN6', 5.0]]),\n",
       " ('A33KPK0QBSSDWS', [['B001GYWIMC', 4.0]]),\n",
       " ('A2TYZ821XXK2YZ',\n",
       "  [['B019EPSNT6', 5.0], ['B00FGD8OCM', 5.0], ['B00MYPUDMY', 4.0]])]"
      ]
     },
     "execution_count": 34,
     "metadata": {},
     "output_type": "execute_result"
    }
   ],
   "source": [
    "list(test_dict.items())[:10]"
   ]
  },
  {
   "cell_type": "code",
   "execution_count": 35,
   "id": "e43cb419-6153-4dee-9beb-d08e50efaa2e",
   "metadata": {},
   "outputs": [],
   "source": [
    "import json\n",
    "  \n",
    "with open('new_test_data.txt', 'w') as convert_file:\n",
    "     convert_file.write(json.dumps(test_dict))"
   ]
  },
  {
   "cell_type": "code",
   "execution_count": 36,
   "id": "f1341c7b-ecd2-481e-b623-981510edece2",
   "metadata": {},
   "outputs": [],
   "source": [
    "import json\n",
    "  \n",
    "with open('new_train_data.txt', 'w') as convert_file:\n",
    "     convert_file.write(json.dumps(train_dict))"
   ]
  },
  {
   "cell_type": "code",
   "execution_count": null,
   "id": "38baf5fa-6732-4e37-9c0e-d3161789baa4",
   "metadata": {},
   "outputs": [],
   "source": []
  }
 ],
 "metadata": {
  "kernelspec": {
   "display_name": "Python 3",
   "language": "python",
   "name": "python3"
  },
  "language_info": {
   "codemirror_mode": {
    "name": "ipython",
    "version": 3
   },
   "file_extension": ".py",
   "mimetype": "text/x-python",
   "name": "python",
   "nbconvert_exporter": "python",
   "pygments_lexer": "ipython3",
   "version": "3.9.5"
  }
 },
 "nbformat": 4,
 "nbformat_minor": 5
}
