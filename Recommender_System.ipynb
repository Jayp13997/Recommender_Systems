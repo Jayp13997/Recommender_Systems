{
 "cells": [
  {
   "cell_type": "code",
   "execution_count": 112,
   "id": "21a0d01d-5c9f-408a-a9cd-0399b5fd1c49",
   "metadata": {},
   "outputs": [],
   "source": [
    "import pandas as pd\n",
    "df = pd.read_csv('practice.csv')\n",
    "df = df.fillna(0)"
   ]
  },
  {
   "cell_type": "code",
   "execution_count": 113,
   "id": "be907e78-acde-416a-8596-ea7c4f5152d0",
   "metadata": {},
   "outputs": [],
   "source": [
    "def sub_mean(df):\n",
    "    df_means = df.mean(axis = 1, skipna = True)\n",
    "    \n",
    "    for i in range(len(df)):\n",
    "        df.iloc[[i]] = df.iloc[[i]]-df_means.iloc[[i]]\n",
    "        \n",
    "    return df"
   ]
  },
  {
   "cell_type": "code",
   "execution_count": 114,
   "id": "21f385e8-7816-461c-a23c-583853ddda66",
   "metadata": {},
   "outputs": [],
   "source": [
    "import numpy as np\n",
    "from numpy.linalg import norm\n",
    "import math\n",
    "\n",
    "\n",
    "#user = \"A383QK6QKCVPYW\"\n",
    "def cosine_sim(df, user):\n",
    "    cosine_sim_val = np.zeros(len(df))\n",
    "    for i in range(len(df)):\n",
    "\n",
    "\n",
    "        user_row = np.array(df.loc[df[\"reviewerID\"] == user]).flatten()[2:]\n",
    "        curr_row = np.array(df.iloc[[i]]).flatten()[2:]\n",
    "        dot_prod = np.dot(user_row, curr_row)\n",
    "        user_row_norm = norm(user_row)\n",
    "        curr_row_norm = norm(curr_row)\n",
    "        norm_mul = user_row_norm * curr_row_norm\n",
    "        if norm_mul == 0:\n",
    "            cos_sim = 0\n",
    "        else:\n",
    "            cos_sim = dot_prod/norm_mul\n",
    "        if math.isnan(cos_sim):\n",
    "            cos_sim = 0\n",
    "\n",
    "        #print(cos_sim)\n",
    "        cosine_sim_val[i] = cos_sim\n",
    "    df[\"cosine_sim\"] = cosine_sim_val\n",
    "    return df\n",
    "    "
   ]
  },
  {
   "cell_type": "code",
   "execution_count": 115,
   "id": "167f8bed-3ef0-41ac-b8b1-743834bf4aef",
   "metadata": {},
   "outputs": [],
   "source": [
    "# k = 2\n",
    "# item = \"1526146\"\n",
    "# user = \"A383QK6QKCVPYW\"\n",
    "\n",
    "def predict_item_rating_avg(df, k, item, user):\n",
    "    df.dropna(subset = [item])\n",
    "    df = df[df.reviewerID != user]\n",
    "    new_df =  df.nlargest(k, \"cosine_sim\")\n",
    "    return new_df[item].mean(axis = 0)\n",
    "    "
   ]
  },
  {
   "cell_type": "code",
   "execution_count": 116,
   "id": "b7bde382-c889-4127-b4b2-fa2817517892",
   "metadata": {},
   "outputs": [],
   "source": [
    "# k = 2\n",
    "# item = \"1526146\"\n",
    "# user = \"A383QK6QKCVPYW\"\n",
    "\n",
    "def predict_item_rating_sim(df, k, item, user):\n",
    "    df.dropna(subset = [item])\n",
    "    df = df[df.reviewerID != user]\n",
    "    new_df =  df.nlargest(k, \"cosine_sim\")\n",
    "    return (new_df[\"cosine_sim\"].dot(new_df[item]))/(new_df[\"cosine_sim\"].sum())\n",
    "    "
   ]
  },
  {
   "cell_type": "code",
   "execution_count": 117,
   "id": "bb69c8d4-0021-450e-ad55-84cff583da2f",
   "metadata": {},
   "outputs": [],
   "source": [
    "def predict(df, user, item):\n",
    "    #sum_mean_df = sub_mean(df)\n",
    "    cos_sim_df = cosine_sim(df, user)\n",
    "    print(predict_item_rating_avg(cos_sim_df, 2, item, user))\n",
    "    print(predict_item_rating_sim(cos_sim_df, 2, item, user))\n",
    "    "
   ]
  },
  {
   "cell_type": "code",
   "execution_count": 118,
   "id": "821751f3-4599-43f7-ada3-b46341b600ab",
   "metadata": {},
   "outputs": [
    {
     "name": "stdout",
     "output_type": "stream",
     "text": [
      "1.5\n",
      "1.4978740272336615\n"
     ]
    }
   ],
   "source": [
    "predict(df, \"A383QK6QKCVPYW\", \"1526146\")"
   ]
  },
  {
   "cell_type": "code",
   "execution_count": null,
   "id": "d19562ab-2b84-4ef1-995d-97153d51138d",
   "metadata": {},
   "outputs": [],
   "source": [
    "import json\n",
    "\n",
    "with open(\"output.txt\") as tweetfile:\n",
    "    pyresponse = json.load(tweetfile)\n",
    "\n",
    "\n"
   ]
  }
 ],
 "metadata": {
  "kernelspec": {
   "display_name": "Python 3.8",
   "language": "python",
   "name": "python38"
  },
  "language_info": {
   "codemirror_mode": {
    "name": "ipython",
    "version": 3
   },
   "file_extension": ".py",
   "mimetype": "text/x-python",
   "name": "python",
   "nbconvert_exporter": "python",
   "pygments_lexer": "ipython3",
   "version": "3.8.10"
  }
 },
 "nbformat": 4,
 "nbformat_minor": 5
}
