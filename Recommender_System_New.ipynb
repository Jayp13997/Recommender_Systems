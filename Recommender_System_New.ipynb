{
 "cells": [
  {
   "cell_type": "code",
   "execution_count": 1,
   "id": "1c715639-68ac-4e8b-a643-70dfd4b0268d",
   "metadata": {},
   "outputs": [],
   "source": [
    "import json"
   ]
  },
  {
   "cell_type": "code",
   "execution_count": 2,
   "id": "833afc9d-186d-410e-bd0e-1a89de41f5ac",
   "metadata": {},
   "outputs": [],
   "source": [
    "with open(\"training.json\") as training:\n",
    "    training = json.loads(training.read())\n",
    "    \n",
    "with open(\"testing.json\") as testing:\n",
    "    testing = json.loads(testing.read())"
   ]
  },
  {
   "cell_type": "code",
   "execution_count": 99,
   "id": "81856d1b-3785-4357-bea0-32dad215d0fa",
   "metadata": {},
   "outputs": [],
   "source": [
    "training_dict = {}\n",
    "testing_dict = {}\n",
    "\n",
    "for user in training.keys():\n",
    "    for [item, rating] in training[user]:\n",
    "        if user in training_dict:\n",
    "            training_dict[user][item] = rating\n",
    "        else:\n",
    "            training_dict[user] = {item: rating}\n",
    "            \n",
    "for user in testing.keys():\n",
    "    for [item, rating] in testing[user]:\n",
    "        if user in testing_dict:\n",
    "            testing_dict[user][item] = rating\n",
    "        else:\n",
    "            testing_dict[user] = {item: rating}\n",
    "\n",
    "# print(training_dict['A12R54MKO17TW0'])"
   ]
  },
  {
   "cell_type": "code",
   "execution_count": 100,
   "id": "8397b27b-a70d-4e4a-ab90-6c690b049bea",
   "metadata": {},
   "outputs": [],
   "source": [
    "def sub_row_mean(ratings_dict):\n",
    "    sub_row_mean_ratings_dict = {}\n",
    "    for user in ratings_dict:\n",
    "        list_item = list(ratings_dict[user].values())\n",
    "        avg = sum(list_item) / len(list_item)\n",
    "        for item in ratings_dict[user].keys():\n",
    "            if user in sub_row_mean_ratings_dict:\n",
    "                sub_row_mean_ratings_dict[user][item] = ratings_dict[user][item] - avg\n",
    "            else:\n",
    "                sub_row_mean_ratings_dict[user] = {item: ratings_dict[user][item] - avg}\n",
    "    \n",
    "    return sub_row_mean_ratings_dict\n",
    "        \n",
    "# training_dict2 = sub_row_mean(training_dict)\n",
    "# print(training_dict2['A12R54MKO17TW0'])\n",
    "# print(training_dict['A12R54MKO17TW0'])"
   ]
  },
  {
   "cell_type": "code",
   "execution_count": 101,
   "id": "47744100-6569-4657-8a77-c7788434223f",
   "metadata": {},
   "outputs": [],
   "source": [
    "import numpy as np\n",
    "from numpy.linalg import norm\n",
    "import math\n",
    "\n",
    "def cosine_sim(ratings_dict, user):\n",
    "    cosine_sim_val = {}\n",
    "\n",
    "    for other_user in ratings_dict.keys():\n",
    "        dot_prod = sum(ratings_dict[user][rating]*ratings_dict[other_user].get(rating, 0) for rating in ratings_dict[user])\n",
    "        user_norm = norm(np.array([rating for rating in ratings_dict[user].values()]))\n",
    "        other_user_norm = norm(np.array([rating for rating in ratings_dict[other_user].values()]))\n",
    "        norm_mul = user_norm * other_user_norm\n",
    "        cos_sim = dot_prod / norm_mul\n",
    "        if math.isnan(cos_sim):\n",
    "            cos_sim = 0\n",
    "        cosine_sim_val[other_user] = cos_sim\n",
    "    \n",
    "    return cosine_sim_val"
   ]
  },
  {
   "cell_type": "code",
   "execution_count": 102,
   "id": "2fec752e-a87c-45a5-8902-642977e466c4",
   "metadata": {},
   "outputs": [],
   "source": [
    "# k = 2\n",
    "# item = \"B0048P1XXQ\"\n",
    "# user = \"A12R54MKO17TW0\"\n",
    "# cos_sims = cosine_sim(training_dict2, 'A12R54MKO17TW0')\n",
    "\n",
    "def predict_item_rating_avg(ratings_dict, sub_row_mean_ratings_dict, cos_similarities_dict, k, item, user):\n",
    "    # df.dropna(subset = [item])\n",
    "    # df = df[df.reviewerID != user]\n",
    "    # new_df =  df.nlargest(k, \"cosine_sim\")\n",
    "    # return new_df[item].mean(axis = 0)\n",
    "    cos_similarities_dict.pop(user)\n",
    "    other_users = list(cos_similarities_dict.keys())\n",
    "    for other_user in other_users:\n",
    "        if item not in ratings_dict[other_user]:\n",
    "            cos_similarities_dict.pop(other_user)\n",
    "    \n",
    "    list_cos_sim = sorted(cos_similarities_dict.items(), key=lambda x: x[1], reverse=True)[:k]\n",
    "    print(list_cos_sim)\n",
    "    avg_rating = 0\n",
    "    for pair in list_cos_sim:\n",
    "        avg_rating += ratings_dict[pair[0]][item]\n",
    "    avg_rating = avg_rating / k\n",
    "    \n",
    "    return avg_rating\n",
    "\n",
    "# training_dict[\"AAE2DUEMTR30I\"][item] = 4.0\n",
    "# print(predict_item_rating_avg(training_dict, training_dict2, cos_sims, k, item, user))\n",
    "# print(training_dict[\"AAE2DUEMTR30I\"])\n",
    "# print(training_dict[\"AQ6J4B5WLGRJ5\"])\n",
    "    \n",
    "    "
   ]
  },
  {
   "cell_type": "code",
   "execution_count": 103,
   "id": "9920e5cb-793b-4663-b073-63ec1386d1d8",
   "metadata": {},
   "outputs": [],
   "source": [
    "# k = 2\n",
    "# item = \"B0048P1XXQ\"\n",
    "# user = \"A12R54MKO17TW0\"\n",
    "# cos_sims = cosine_sim(training_dict2, 'A12R54MKO17TW0')\n",
    "\n",
    "def predict_item_rating_sim(ratings_dict, sub_row_mean_ratings_dict, cos_similarities_dict, k, item, user):\n",
    "    # df.dropna(subset = [item])\n",
    "    # df = df[df.reviewerID != user]\n",
    "    # new_df =  df.nlargest(k, \"cosine_sim\")\n",
    "    # return (new_df[\"cosine_sim\"].dot(new_df[item]))/(new_df[\"cosine_sim\"].sum())\n",
    "    if user in cos_similarities_dict:\n",
    "        cos_similarities_dict.pop(user)\n",
    "    other_users = list(cos_similarities_dict.keys())\n",
    "    for other_user in other_users:\n",
    "        if item not in ratings_dict[other_user]:\n",
    "            cos_similarities_dict.pop(other_user)\n",
    "    \n",
    "    list_cos_sim = sorted(cos_similarities_dict.items(), key=lambda x: x[1], reverse=True)[:k]\n",
    "    rating = 0\n",
    "    similarities = 0\n",
    "    for pair in list_cos_sim:\n",
    "        rating += ratings_dict[pair[0]][item] * cos_similarities_dict[pair[0]]\n",
    "        similarities += cos_similarities_dict[pair[0]]\n",
    "    rating = rating / similarities\n",
    "    \n",
    "    return rating\n",
    "\n",
    "# training_dict[\"AAE2DUEMTR30I\"][item] = 5.0\n",
    "# print(predict_item_rating_sim(training_dict, training_dict2, cos_sims, k, item, user))\n",
    "# print(training_dict[\"AAE2DUEMTR30I\"])\n",
    "# print(training_dict[\"AQ6J4B5WLGRJ5\"])\n",
    "    \n",
    "    "
   ]
  },
  {
   "cell_type": "code",
   "execution_count": 104,
   "id": "f420452c-cc83-43e8-8fd4-4c8810552c9c",
   "metadata": {},
   "outputs": [],
   "source": [
    "def predict(ratings_dict, user, item):\n",
    "    sub_mean_dict = sub_row_mean(ratings_dict)\n",
    "    cos_sim_dict = cosine_sim(sub_mean_dict, user)\n",
    "    print(predict_item_rating_avg(training_dict, sub_mean_dict, cos_sim_dict, k, item, user))\n",
    "    print(predict_item_rating_sim(training_dict, sub_mean_dict, cos_sim_dict, k, item, user))"
   ]
  },
  {
   "cell_type": "code",
   "execution_count": 111,
   "id": "9fab5516-30a3-48a4-991b-fc168728d61d",
   "metadata": {},
   "outputs": [
    {
     "name": "stderr",
     "output_type": "stream",
     "text": [
      "<ipython-input-101-0a97a164586d>:13: RuntimeWarning: invalid value encountered in double_scalars\n",
      "  cos_sim = dot_prod / norm_mul\n"
     ]
    },
    {
     "name": "stdout",
     "output_type": "stream",
     "text": [
      "[('AAE2DUEMTR30I', 0.037507502250750294), ('AQ6J4B5WLGRJ5', 0.023390037142659994)]\n",
      "5.0\n",
      "4.999999999999999\n"
     ]
    }
   ],
   "source": [
    "# import timeit\n",
    "\n",
    "### TEST ###\n",
    "\n",
    "k = 2\n",
    "item = \"B0048P1XXQ\"\n",
    "user = \"A12R54MKO17TW0\"\n",
    "\n",
    "# start = timeit.timeit()\n",
    "predict(training_dict, user, item)\n",
    "# end = timeit.timeit()\n",
    "\n",
    "# print(end - start) => 0.0011411383748054504"
   ]
  },
  {
   "cell_type": "code",
   "execution_count": null,
   "id": "0d4319c7-dd1e-432d-b714-f5bd7634377b",
   "metadata": {},
   "outputs": [],
   "source": []
  }
 ],
 "metadata": {
  "kernelspec": {
   "display_name": "Python 3",
   "language": "python",
   "name": "python3"
  },
  "language_info": {
   "codemirror_mode": {
    "name": "ipython",
    "version": 3
   },
   "file_extension": ".py",
   "mimetype": "text/x-python",
   "name": "python",
   "nbconvert_exporter": "python",
   "pygments_lexer": "ipython3",
   "version": "3.9.5"
  }
 },
 "nbformat": 4,
 "nbformat_minor": 5
}
