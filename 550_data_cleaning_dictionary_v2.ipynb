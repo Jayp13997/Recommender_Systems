{
 "cells": [
  {
   "cell_type": "code",
   "execution_count": 1,
   "id": "abaaf478",
   "metadata": {},
   "outputs": [],
   "source": [
    "import pandas as pd\n",
    "import gzip\n",
    "import json\n",
    "import numpy as np\n",
    "import math\n",
    "from random import randint\n",
    "\n"
   ]
  },
  {
   "cell_type": "code",
   "execution_count": 2,
   "id": "39326076",
   "metadata": {},
   "outputs": [],
   "source": [
    "def parse(path):\n",
    "  g = gzip.open(path, 'rb')\n",
    "  for l in g:\n",
    "    yield json.loads(l)\n",
    "\n",
    "def getDF(path):\n",
    "  i = 0\n",
    "  df = {}\n",
    "  for d in parse(path):\n",
    "    df[i] = d\n",
    "    i += 1\n",
    "  return pd.DataFrame.from_dict(df, orient='index')\n",
    "\n",
    "df = getDF('Digital_Music.json.gz')"
   ]
  },
  {
   "cell_type": "code",
   "execution_count": 3,
   "id": "cfa73c09",
   "metadata": {},
   "outputs": [],
   "source": [
    "df_clean = df.drop(columns=['reviewTime', 'reviewerName', 'reviewText', 'summary', 'unixReviewTime', 'style', 'image', 'vote', 'verified'])"
   ]
  },
  {
   "cell_type": "code",
   "execution_count": null,
   "id": "bb15f023",
   "metadata": {},
   "outputs": [],
   "source": []
  },
  {
   "cell_type": "code",
   "execution_count": null,
   "id": "ebd8d33b",
   "metadata": {},
   "outputs": [],
   "source": []
  },
  {
   "cell_type": "code",
   "execution_count": 4,
   "id": "fbd98d7d",
   "metadata": {},
   "outputs": [],
   "source": [
    "#Filtering the data by number of reviews before making pivot table to ease memory constraints\n",
    "#Here threshold is inclusive (n or more reviews will be kept)\n",
    "user_thresh = 5\n",
    "item_thresh = 3\n",
    "pre_pivot = df_clean[df_clean.groupby(['reviewerID'])['reviewerID'].transform('size') >= user_thresh]\n",
    "pre_pivot2 = pre_pivot[pre_pivot.groupby(['asin'])['asin'].transform('size') >= item_thresh]"
   ]
  },
  {
   "cell_type": "code",
   "execution_count": 5,
   "id": "abe8e16c-1d1e-4aa5-bc48-fa9542e7f980",
   "metadata": {},
   "outputs": [],
   "source": [
    "#pivot = pd.pivot_table(pre_pivot2, values = 'overall', index='reviewerID', columns = 'asin').reset_index()"
   ]
  },
  {
   "cell_type": "code",
   "execution_count": 6,
   "id": "adf0f580",
   "metadata": {},
   "outputs": [],
   "source": [
    "#Filtering again after pivot table is made\n",
    "#After some columns are reviewed, there are still users with < threshold reviews\n",
    "#pivot = pivot.loc[pivot.count(axis = 'columns') > user_thresh]"
   ]
  },
  {
   "cell_type": "code",
   "execution_count": null,
   "id": "e1c2ff4b",
   "metadata": {},
   "outputs": [],
   "source": []
  },
  {
   "cell_type": "code",
   "execution_count": null,
   "id": "66698859",
   "metadata": {},
   "outputs": [],
   "source": []
  },
  {
   "cell_type": "code",
   "execution_count": null,
   "id": "6176bfd5",
   "metadata": {},
   "outputs": [],
   "source": []
  },
  {
   "cell_type": "code",
   "execution_count": 7,
   "id": "9d0d5dc3",
   "metadata": {},
   "outputs": [
    {
     "data": {
      "text/html": [
       "<div>\n",
       "<style scoped>\n",
       "    .dataframe tbody tr th:only-of-type {\n",
       "        vertical-align: middle;\n",
       "    }\n",
       "\n",
       "    .dataframe tbody tr th {\n",
       "        vertical-align: top;\n",
       "    }\n",
       "\n",
       "    .dataframe thead th {\n",
       "        text-align: right;\n",
       "    }\n",
       "</style>\n",
       "<table border=\"1\" class=\"dataframe\">\n",
       "  <thead>\n",
       "    <tr style=\"text-align: right;\">\n",
       "      <th></th>\n",
       "      <th>overall</th>\n",
       "      <th>reviewerID</th>\n",
       "      <th>asin</th>\n",
       "    </tr>\n",
       "  </thead>\n",
       "  <tbody>\n",
       "    <tr>\n",
       "      <th>4</th>\n",
       "      <td>5.0</td>\n",
       "      <td>A12R54MKO17TW0</td>\n",
       "      <td>0001388703</td>\n",
       "    </tr>\n",
       "    <tr>\n",
       "      <th>12</th>\n",
       "      <td>5.0</td>\n",
       "      <td>A4V08BR7LZ6D9</td>\n",
       "      <td>0001388703</td>\n",
       "    </tr>\n",
       "    <tr>\n",
       "      <th>13</th>\n",
       "      <td>5.0</td>\n",
       "      <td>AJO3UG6FR5C7R</td>\n",
       "      <td>0001388703</td>\n",
       "    </tr>\n",
       "    <tr>\n",
       "      <th>16</th>\n",
       "      <td>5.0</td>\n",
       "      <td>A27P44I54RUMDC</td>\n",
       "      <td>0001388703</td>\n",
       "    </tr>\n",
       "    <tr>\n",
       "      <th>36</th>\n",
       "      <td>5.0</td>\n",
       "      <td>A3INJI4T4U2JJS</td>\n",
       "      <td>0001526146</td>\n",
       "    </tr>\n",
       "    <tr>\n",
       "      <th>...</th>\n",
       "      <td>...</td>\n",
       "      <td>...</td>\n",
       "      <td>...</td>\n",
       "    </tr>\n",
       "    <tr>\n",
       "      <th>1584052</th>\n",
       "      <td>5.0</td>\n",
       "      <td>A3M73VJWQ7X900</td>\n",
       "      <td>B01HJ91MTW</td>\n",
       "    </tr>\n",
       "    <tr>\n",
       "      <th>1584053</th>\n",
       "      <td>5.0</td>\n",
       "      <td>A2SR3DWJR1PYR6</td>\n",
       "      <td>B01HJ91MTW</td>\n",
       "    </tr>\n",
       "    <tr>\n",
       "      <th>1584054</th>\n",
       "      <td>5.0</td>\n",
       "      <td>A24V7X30NIMOIY</td>\n",
       "      <td>B01HJ91MTW</td>\n",
       "    </tr>\n",
       "    <tr>\n",
       "      <th>1584056</th>\n",
       "      <td>5.0</td>\n",
       "      <td>A1LW10GYP2EYM1</td>\n",
       "      <td>B01HJ91MTW</td>\n",
       "    </tr>\n",
       "    <tr>\n",
       "      <th>1584057</th>\n",
       "      <td>5.0</td>\n",
       "      <td>A26TH3YW0QWPI7</td>\n",
       "      <td>B01HJ91MTW</td>\n",
       "    </tr>\n",
       "  </tbody>\n",
       "</table>\n",
       "<p>305453 rows × 3 columns</p>\n",
       "</div>"
      ],
      "text/plain": [
       "         overall      reviewerID        asin\n",
       "4            5.0  A12R54MKO17TW0  0001388703\n",
       "12           5.0   A4V08BR7LZ6D9  0001388703\n",
       "13           5.0   AJO3UG6FR5C7R  0001388703\n",
       "16           5.0  A27P44I54RUMDC  0001388703\n",
       "36           5.0  A3INJI4T4U2JJS  0001526146\n",
       "...          ...             ...         ...\n",
       "1584052      5.0  A3M73VJWQ7X900  B01HJ91MTW\n",
       "1584053      5.0  A2SR3DWJR1PYR6  B01HJ91MTW\n",
       "1584054      5.0  A24V7X30NIMOIY  B01HJ91MTW\n",
       "1584056      5.0  A1LW10GYP2EYM1  B01HJ91MTW\n",
       "1584057      5.0  A26TH3YW0QWPI7  B01HJ91MTW\n",
       "\n",
       "[305453 rows x 3 columns]"
      ]
     },
     "execution_count": 7,
     "metadata": {},
     "output_type": "execute_result"
    }
   ],
   "source": [
    "pre_pivot2"
   ]
  },
  {
   "cell_type": "code",
   "execution_count": 8,
   "id": "e68f8889",
   "metadata": {},
   "outputs": [],
   "source": [
    "full_dict = {}"
   ]
  },
  {
   "cell_type": "code",
   "execution_count": 9,
   "id": "7893cb2a",
   "metadata": {},
   "outputs": [],
   "source": [
    "for index, row in pre_pivot2.iterrows():\n",
    "    if row['reviewerID'] in full_dict: \n",
    "        full_dict[row['reviewerID']].append(([row['asin'], row['overall']]))\n",
    "    else:\n",
    "        full_dict[row['reviewerID']] = ([[row['asin'], row['overall']]])"
   ]
  },
  {
   "cell_type": "code",
   "execution_count": 10,
   "id": "b8b78dfc",
   "metadata": {},
   "outputs": [
    {
     "data": {
      "text/plain": [
       "[['0001388703', 5.0], ['B000V64UXQ', 5.0], ['B001BIDEY4', 5.0]]"
      ]
     },
     "execution_count": 10,
     "metadata": {},
     "output_type": "execute_result"
    }
   ],
   "source": [
    "full_dict['AJO3UG6FR5C7R']"
   ]
  },
  {
   "cell_type": "code",
   "execution_count": 11,
   "id": "5ca951e3",
   "metadata": {},
   "outputs": [
    {
     "data": {
      "text/plain": [
       "43336"
      ]
     },
     "execution_count": 11,
     "metadata": {},
     "output_type": "execute_result"
    }
   ],
   "source": [
    "len(full_dict)"
   ]
  },
  {
   "cell_type": "code",
   "execution_count": 12,
   "id": "d1643df2",
   "metadata": {},
   "outputs": [],
   "source": [
    "item_dict = {}"
   ]
  },
  {
   "cell_type": "code",
   "execution_count": 13,
   "id": "46b1c4a5",
   "metadata": {},
   "outputs": [],
   "source": [
    "for index, row in pre_pivot2.iterrows():\n",
    "    if row['asin'] in item_dict: \n",
    "        item_dict[row['asin']].append(([row['reviewerID'], row['overall']]))\n",
    "    else:\n",
    "        item_dict[row['asin']] = ([[row['reviewerID'], row['overall']]])"
   ]
  },
  {
   "cell_type": "code",
   "execution_count": 26,
   "id": "d51b37df",
   "metadata": {},
   "outputs": [
    {
     "data": {
      "text/plain": [
       "33083"
      ]
     },
     "execution_count": 26,
     "metadata": {},
     "output_type": "execute_result"
    }
   ],
   "source": [
    "len(item_dict)"
   ]
  },
  {
   "cell_type": "code",
   "execution_count": 14,
   "id": "e625d5df",
   "metadata": {},
   "outputs": [
    {
     "data": {
      "text/plain": [
       "[['A12R54MKO17TW0', 5.0],\n",
       " ['A4V08BR7LZ6D9', 5.0],\n",
       " ['AJO3UG6FR5C7R', 5.0],\n",
       " ['A27P44I54RUMDC', 5.0]]"
      ]
     },
     "execution_count": 14,
     "metadata": {},
     "output_type": "execute_result"
    }
   ],
   "source": [
    "item_dict['0001388703']"
   ]
  },
  {
   "cell_type": "code",
   "execution_count": 15,
   "id": "69d19e96",
   "metadata": {},
   "outputs": [
    {
     "data": {
      "text/plain": [
       "[('0001388703',\n",
       "  [['A12R54MKO17TW0', 5.0],\n",
       "   ['A4V08BR7LZ6D9', 5.0],\n",
       "   ['AJO3UG6FR5C7R', 5.0],\n",
       "   ['A27P44I54RUMDC', 5.0]]),\n",
       " ('0001526146',\n",
       "  [['A3INJI4T4U2JJS', 5.0], ['A27P44I54RUMDC', 3.0], ['A2H5Z1ZNWQMEO0', 3.0]]),\n",
       " ('0001377647',\n",
       "  [['A1UNS26W21A9C2', 5.0],\n",
       "   ['A21OOZLUPQ54TP', 5.0],\n",
       "   ['A3FVAWZNKW9GX', 5.0],\n",
       "   ['A1U2J1QFGBMEGI', 5.0]]),\n",
       " ('0006935257',\n",
       "  [['A2QWA7KNDKZCOD', 5.0], ['A141HP4LYPWMSR', 5.0], ['A1U2J1QFGBMEGI', 5.0]]),\n",
       " ('0006920055',\n",
       "  [['A27SJD1VM73SMM', 5.0],\n",
       "   ['A1BVU7F2T8EUKS', 4.0],\n",
       "   ['A3TTAAR9L631DB', 4.0],\n",
       "   ['A16TZRNJAH1V0B', 5.0],\n",
       "   ['A1U1V9U9IS8F5B', 5.0],\n",
       "   ['A33KPK0QBSSDWS', 5.0]]),\n",
       " ('3426958910',\n",
       "  [['A2TYZ821XXK2YZ', 5.0],\n",
       "   ['A3OFSREZADFUDY', 5.0],\n",
       "   ['A2VAMODP8M77NG', 5.0],\n",
       "   ['AAKSLZ9IDTEH0', 4.0],\n",
       "   ['A14W6D2RAIZ3ZN', 5.0],\n",
       "   ['A3HUD6U7RWX8E8', 5.0]]),\n",
       " ('5550312085',\n",
       "  [['A2I5AKN7CDTWFM', 5.0],\n",
       "   ['AM12SZNS452IL', 5.0],\n",
       "   ['A1P097GD6WMEBI', 5.0],\n",
       "   ['A3S2EH4H28PLFG', 2.0],\n",
       "   ['A3LEN0P07MGJE2', 5.0],\n",
       "   ['A3A93F0J96AEL0', 5.0]]),\n",
       " ('5552256646',\n",
       "  [['A28GENP8GFM864', 5.0],\n",
       "   ['A23B7XLT6WUQ24', 5.0],\n",
       "   ['A1G466TP1O8YUG', 5.0],\n",
       "   ['AZL73D7ODJAR0', 5.0],\n",
       "   ['ANYNNNI57NY79', 5.0],\n",
       "   ['A3RP3MZIDQKS91', 5.0],\n",
       "   ['A27P44I54RUMDC', 4.0],\n",
       "   ['AN1CS6YBLC7BE', 5.0]]),\n",
       " ('5557585400',\n",
       "  [['A1WLG5U2W2EU6D', 5.0],\n",
       "   ['A3RX5F6UP4ITWU', 5.0],\n",
       "   ['A3M26WIUP5TXIW', 5.0],\n",
       "   ['A3R1CNY27OLIE8', 5.0],\n",
       "   ['A20DB07ERFSUG9', 5.0],\n",
       "   ['A22HC8SP88NOCU', 5.0],\n",
       "   ['A2F23QT3T03LLB', 5.0],\n",
       "   ['A3NPIPEU6Z0HTC', 5.0],\n",
       "   ['A2I6MHMAZZDCRX', 5.0],\n",
       "   ['A1JGAVUOT4UW0S', 5.0]]),\n",
       " ('555820690X',\n",
       "  [['AWB2227LZGIE9', 4.0],\n",
       "   ['A1U2J1QFGBMEGI', 5.0],\n",
       "   ['A1LHS0JZLKR9ZI', 5.0],\n",
       "   ['A3HAAFT9AE29RL', 5.0],\n",
       "   ['A8Y5DSOILBDGS', 5.0],\n",
       "   ['A2M2ZVOZ23DQVB', 5.0],\n",
       "   ['A19NH8VGNWJ37A', 5.0],\n",
       "   ['A3SULW2PRZQ11M', 5.0],\n",
       "   ['A1WFCSILXZ85GL', 5.0],\n",
       "   ['A3SHA4Y9DHEK39', 4.0],\n",
       "   ['A2C7BOQVFH1HLE', 4.0],\n",
       "   ['A1XJOSJN6FHFO0', 5.0],\n",
       "   ['A1TWP6OKFKS9T3', 5.0]])]"
      ]
     },
     "execution_count": 15,
     "metadata": {},
     "output_type": "execute_result"
    }
   ],
   "source": [
    "list(item_dict.items())[:10]"
   ]
  },
  {
   "cell_type": "code",
   "execution_count": 16,
   "id": "08228866",
   "metadata": {},
   "outputs": [],
   "source": [
    "with open('items.json', 'w') as fp:\n",
    "    json.dump(item_dict, fp)"
   ]
  },
  {
   "cell_type": "code",
   "execution_count": null,
   "id": "2a2b6c39",
   "metadata": {},
   "outputs": [],
   "source": []
  },
  {
   "cell_type": "code",
   "execution_count": 17,
   "id": "6ba99a13",
   "metadata": {},
   "outputs": [
    {
     "data": {
      "text/plain": [
       "23958"
      ]
     },
     "execution_count": 17,
     "metadata": {},
     "output_type": "execute_result"
    }
   ],
   "source": [
    "pruned_dict = {}\n",
    "for key in full_dict:\n",
    "    if len(full_dict[key]) >= 5:\n",
    "        pruned_dict[key] = full_dict[key]\n",
    "len(pruned_dict)"
   ]
  },
  {
   "cell_type": "code",
   "execution_count": 18,
   "id": "7703c16e",
   "metadata": {},
   "outputs": [
    {
     "data": {
      "text/plain": [
       "[('A12R54MKO17TW0',\n",
       "  [['0001388703', 5.0],\n",
       "   ['B000VZJS84', 5.0],\n",
       "   ['B000WLNUN6', 5.0],\n",
       "   ['B001232RGE', 5.0],\n",
       "   ['B00123KDR4', 5.0],\n",
       "   ['B000VZJS84', 5.0],\n",
       "   ['B000WLNUN6', 5.0],\n",
       "   ['B001232RGE', 5.0],\n",
       "   ['B00123KDR4', 5.0],\n",
       "   ['B0019M5J6S', 5.0],\n",
       "   ['B001BHWEAA', 3.0],\n",
       "   ['B001FSB0C8', 5.0],\n",
       "   ['B001MD0GNK', 5.0],\n",
       "   ['B002R4K6AG', 3.0],\n",
       "   ['B00382MONS', 5.0],\n",
       "   ['B0045QJ7UO', 4.0],\n",
       "   ['B01929H4VM', 5.0],\n",
       "   ['B0007ZWQNC', 5.0],\n",
       "   ['B000E1B00O', 5.0],\n",
       "   ['B000GWCIOS', 5.0],\n",
       "   ['B000MRU1B4', 5.0],\n",
       "   ['B0019M3TWE', 5.0],\n",
       "   ['B001PJ5SX4', 4.0],\n",
       "   ['B0048P1XXQ', 5.0]]),\n",
       " ('A27P44I54RUMDC',\n",
       "  [['0001388703', 5.0],\n",
       "   ['0001526146', 3.0],\n",
       "   ['B000E1B00O', 5.0],\n",
       "   ['B004QMR6KA', 4.0],\n",
       "   ['B00973AF0G', 5.0],\n",
       "   ['5552256646', 4.0]]),\n",
       " ('A3INJI4T4U2JJS',\n",
       "  [['0001526146', 5.0],\n",
       "   ['B00136J7ZE', 5.0],\n",
       "   ['B00136J7ZE', 5.0],\n",
       "   ['B009CVYYFU', 5.0],\n",
       "   ['B00IJUC4WK', 4.0],\n",
       "   ['B00B8IONO2', 5.0]]),\n",
       " ('A3FVAWZNKW9GX',\n",
       "  [['0001377647', 5.0],\n",
       "   ['B000QVXDR0', 5.0],\n",
       "   ['B000S56380', 5.0],\n",
       "   ['B000T1EJ0W', 5.0],\n",
       "   ['B000TDWSYO', 5.0],\n",
       "   ['B000VZO4TW', 5.0],\n",
       "   ['B000W15BBK', 5.0],\n",
       "   ['B0010WLQXW', 5.0],\n",
       "   ['B0011Z77TA', 5.0],\n",
       "   ['B0011Z8P8M', 3.0],\n",
       "   ['B00122OMC2', 5.0],\n",
       "   ['B001386SW2', 5.0],\n",
       "   ['B00138JAD6', 5.0],\n",
       "   ['B0013HYLT0', 5.0],\n",
       "   ['B000VZO4TW', 5.0],\n",
       "   ['B000W15BBK', 5.0],\n",
       "   ['B0010WLQXW', 5.0],\n",
       "   ['B0011Z77TA', 5.0],\n",
       "   ['B0011Z8P8M', 3.0],\n",
       "   ['B00122OMC2', 5.0],\n",
       "   ['B001386SW2', 5.0],\n",
       "   ['B00138JAD6', 5.0],\n",
       "   ['B0013HYLT0', 5.0],\n",
       "   ['B001BHHTR8', 5.0],\n",
       "   ['B001NTUDEU', 5.0],\n",
       "   ['B005RJEQ2W', 5.0],\n",
       "   ['B006ONY954', 5.0],\n",
       "   ['B00H9EEUD8', 5.0],\n",
       "   ['B00NPX05QI', 3.0],\n",
       "   ['B001NCOO1U', 5.0],\n",
       "   ['B001NYGFME', 5.0],\n",
       "   ['B004ZKL9A6', 5.0],\n",
       "   ['B00L1SLE5K', 5.0]]),\n",
       " ('A27SJD1VM73SMM',\n",
       "  [['0006920055', 5.0],\n",
       "   ['B00CI272L8', 5.0],\n",
       "   ['B00DPJ0JYA', 5.0],\n",
       "   ['B00FZFRVPW', 5.0],\n",
       "   ['B00G7HG10I', 5.0],\n",
       "   ['B00GWZ03YK', 5.0],\n",
       "   ['B00JG9PEI4', 5.0],\n",
       "   ['B00OE1VG6I', 5.0],\n",
       "   ['B00P77HNL0', 5.0],\n",
       "   ['B00P7N0Y6K', 5.0],\n",
       "   ['B00GTUHDL4', 5.0],\n",
       "   ['B00PWNBIWY', 5.0]]),\n",
       " ('A1BVU7F2T8EUKS',\n",
       "  [['0006920055', 4.0],\n",
       "   ['0760135886', 4.0],\n",
       "   ['B0001PICSG', 5.0],\n",
       "   ['B00025G1H4', 4.0],\n",
       "   ['B000E1B00O', 4.0],\n",
       "   ['B003MTZ2FE', 5.0],\n",
       "   ['B0008F6P9C', 4.0],\n",
       "   ['B004Z4ZN4A', 3.0]]),\n",
       " ('A16TZRNJAH1V0B',\n",
       "  [['0006920055', 5.0],\n",
       "   ['B00920DU6A', 5.0],\n",
       "   ['B00VG2QNFM', 5.0],\n",
       "   ['B0058V8SDW', 5.0],\n",
       "   ['B008723K96', 5.0],\n",
       "   ['B009G8G3FS', 5.0],\n",
       "   ['B00EWS7JW8', 5.0],\n",
       "   ['B00VBM52L8', 5.0],\n",
       "   ['B016FQPWBE', 5.0]]),\n",
       " ('A1U1V9U9IS8F5B',\n",
       "  [['0006920055', 5.0],\n",
       "   ['B000TGGTIC', 4.0],\n",
       "   ['B00136NNN6', 5.0],\n",
       "   ['B00136NNN6', 5.0],\n",
       "   ['B002HP8EKE', 5.0],\n",
       "   ['B000TEDPJK', 5.0],\n",
       "   ['B00138HSNU', 3.0]]),\n",
       " ('A33KPK0QBSSDWS',\n",
       "  [['0006920055', 5.0],\n",
       "   ['B000SZIR0C', 5.0],\n",
       "   ['B001GYWIMC', 4.0],\n",
       "   ['B000TDSR3K', 5.0],\n",
       "   ['B000TE0MYG', 5.0],\n",
       "   ['B00122KXE8', 5.0],\n",
       "   ['B00137VPB2', 5.0],\n",
       "   ['B001386Z84', 5.0]]),\n",
       " ('A2TYZ821XXK2YZ',\n",
       "  [['3426958910', 5.0],\n",
       "   ['B00MYPUDMY', 4.0],\n",
       "   ['B00YI4B79W', 5.0],\n",
       "   ['B00YIB0R9Q', 5.0],\n",
       "   ['B012BPYS7M', 5.0],\n",
       "   ['B015U2LLIW', 5.0],\n",
       "   ['B01AUA1MC4', 5.0],\n",
       "   ['B01DQ6ON70', 5.0],\n",
       "   ['B01DQ6ONVG', 5.0],\n",
       "   ['B01EDA9EPE', 5.0],\n",
       "   ['B002T66I1S', 5.0],\n",
       "   ['B004YMT85I', 5.0],\n",
       "   ['B00FGD8OCM', 5.0],\n",
       "   ['B00Z86V3ZM', 5.0],\n",
       "   ['B019EPSNT6', 5.0]])]"
      ]
     },
     "execution_count": 18,
     "metadata": {},
     "output_type": "execute_result"
    }
   ],
   "source": [
    "list(pruned_dict.items())[:10]"
   ]
  },
  {
   "cell_type": "code",
   "execution_count": null,
   "id": "7f9e7ea3",
   "metadata": {},
   "outputs": [],
   "source": []
  },
  {
   "cell_type": "code",
   "execution_count": 19,
   "id": "3576bd38",
   "metadata": {},
   "outputs": [],
   "source": [
    "test_dict = {}\n",
    "for key in pruned_dict:\n",
    "    take = math.floor(len(pruned_dict[key])/5)\n",
    "    for i in range(take):\n",
    "        rand = randint(0, len(pruned_dict[key]) - 1)\n",
    "        if key in test_dict: \n",
    "            test_dict[key].append(pruned_dict[key].pop(rand))\n",
    "        else:\n",
    "            test_dict[key] = ([pruned_dict[key].pop(rand)])\n",
    "        "
   ]
  },
  {
   "cell_type": "code",
   "execution_count": 20,
   "id": "76c94db6",
   "metadata": {},
   "outputs": [],
   "source": [
    "train_dict = pruned_dict"
   ]
  },
  {
   "cell_type": "code",
   "execution_count": 21,
   "id": "b32c9c32",
   "metadata": {},
   "outputs": [
    {
     "data": {
      "text/plain": [
       "23958"
      ]
     },
     "execution_count": 21,
     "metadata": {},
     "output_type": "execute_result"
    }
   ],
   "source": [
    "len(test_dict)"
   ]
  },
  {
   "cell_type": "code",
   "execution_count": 22,
   "id": "9837c8d8",
   "metadata": {},
   "outputs": [
    {
     "data": {
      "text/plain": [
       "[('A12R54MKO17TW0',\n",
       "  [['0001388703', 5.0],\n",
       "   ['B000VZJS84', 5.0],\n",
       "   ['B000WLNUN6', 5.0],\n",
       "   ['B001232RGE', 5.0],\n",
       "   ['B00123KDR4', 5.0],\n",
       "   ['B000VZJS84', 5.0],\n",
       "   ['B000WLNUN6', 5.0],\n",
       "   ['B001232RGE', 5.0],\n",
       "   ['B00123KDR4', 5.0],\n",
       "   ['B0019M5J6S', 5.0],\n",
       "   ['B001BHWEAA', 3.0],\n",
       "   ['B002R4K6AG', 3.0],\n",
       "   ['B00382MONS', 5.0],\n",
       "   ['B0045QJ7UO', 4.0],\n",
       "   ['B01929H4VM', 5.0],\n",
       "   ['B0007ZWQNC', 5.0],\n",
       "   ['B000E1B00O', 5.0],\n",
       "   ['B000GWCIOS', 5.0],\n",
       "   ['B000MRU1B4', 5.0],\n",
       "   ['B0048P1XXQ', 5.0]]),\n",
       " ('A27P44I54RUMDC',\n",
       "  [['0001526146', 3.0],\n",
       "   ['B000E1B00O', 5.0],\n",
       "   ['B004QMR6KA', 4.0],\n",
       "   ['B00973AF0G', 5.0],\n",
       "   ['5552256646', 4.0]]),\n",
       " ('A3INJI4T4U2JJS',\n",
       "  [['B00136J7ZE', 5.0],\n",
       "   ['B00136J7ZE', 5.0],\n",
       "   ['B009CVYYFU', 5.0],\n",
       "   ['B00IJUC4WK', 4.0],\n",
       "   ['B00B8IONO2', 5.0]]),\n",
       " ('A3FVAWZNKW9GX',\n",
       "  [['0001377647', 5.0],\n",
       "   ['B000QVXDR0', 5.0],\n",
       "   ['B000T1EJ0W', 5.0],\n",
       "   ['B000TDWSYO', 5.0],\n",
       "   ['B000VZO4TW', 5.0],\n",
       "   ['B000W15BBK', 5.0],\n",
       "   ['B0010WLQXW', 5.0],\n",
       "   ['B0011Z77TA', 5.0],\n",
       "   ['B0011Z8P8M', 3.0],\n",
       "   ['B00122OMC2', 5.0],\n",
       "   ['B001386SW2', 5.0],\n",
       "   ['B00138JAD6', 5.0],\n",
       "   ['B0013HYLT0', 5.0],\n",
       "   ['B000VZO4TW', 5.0],\n",
       "   ['B0011Z8P8M', 3.0],\n",
       "   ['B00122OMC2', 5.0],\n",
       "   ['B00138JAD6', 5.0],\n",
       "   ['B0013HYLT0', 5.0],\n",
       "   ['B001NTUDEU', 5.0],\n",
       "   ['B005RJEQ2W', 5.0],\n",
       "   ['B006ONY954', 5.0],\n",
       "   ['B00H9EEUD8', 5.0],\n",
       "   ['B00NPX05QI', 3.0],\n",
       "   ['B001NCOO1U', 5.0],\n",
       "   ['B001NYGFME', 5.0],\n",
       "   ['B004ZKL9A6', 5.0],\n",
       "   ['B00L1SLE5K', 5.0]]),\n",
       " ('A27SJD1VM73SMM',\n",
       "  [['B00CI272L8', 5.0],\n",
       "   ['B00DPJ0JYA', 5.0],\n",
       "   ['B00FZFRVPW', 5.0],\n",
       "   ['B00G7HG10I', 5.0],\n",
       "   ['B00GWZ03YK', 5.0],\n",
       "   ['B00OE1VG6I', 5.0],\n",
       "   ['B00P77HNL0', 5.0],\n",
       "   ['B00P7N0Y6K', 5.0],\n",
       "   ['B00GTUHDL4', 5.0],\n",
       "   ['B00PWNBIWY', 5.0]]),\n",
       " ('A1BVU7F2T8EUKS',\n",
       "  [['0006920055', 4.0],\n",
       "   ['0760135886', 4.0],\n",
       "   ['B0001PICSG', 5.0],\n",
       "   ['B00025G1H4', 4.0],\n",
       "   ['B000E1B00O', 4.0],\n",
       "   ['B003MTZ2FE', 5.0],\n",
       "   ['B0008F6P9C', 4.0]]),\n",
       " ('A16TZRNJAH1V0B',\n",
       "  [['0006920055', 5.0],\n",
       "   ['B00920DU6A', 5.0],\n",
       "   ['B00VG2QNFM', 5.0],\n",
       "   ['B0058V8SDW', 5.0],\n",
       "   ['B009G8G3FS', 5.0],\n",
       "   ['B00EWS7JW8', 5.0],\n",
       "   ['B00VBM52L8', 5.0],\n",
       "   ['B016FQPWBE', 5.0]]),\n",
       " ('A1U1V9U9IS8F5B',\n",
       "  [['0006920055', 5.0],\n",
       "   ['B000TGGTIC', 4.0],\n",
       "   ['B00136NNN6', 5.0],\n",
       "   ['B002HP8EKE', 5.0],\n",
       "   ['B000TEDPJK', 5.0],\n",
       "   ['B00138HSNU', 3.0]]),\n",
       " ('A33KPK0QBSSDWS',\n",
       "  [['0006920055', 5.0],\n",
       "   ['B000SZIR0C', 5.0],\n",
       "   ['B001GYWIMC', 4.0],\n",
       "   ['B000TDSR3K', 5.0],\n",
       "   ['B00122KXE8', 5.0],\n",
       "   ['B00137VPB2', 5.0],\n",
       "   ['B001386Z84', 5.0]]),\n",
       " ('A2TYZ821XXK2YZ',\n",
       "  [['B00MYPUDMY', 4.0],\n",
       "   ['B00YI4B79W', 5.0],\n",
       "   ['B00YIB0R9Q', 5.0],\n",
       "   ['B012BPYS7M', 5.0],\n",
       "   ['B015U2LLIW', 5.0],\n",
       "   ['B01DQ6ONVG', 5.0],\n",
       "   ['B01EDA9EPE', 5.0],\n",
       "   ['B002T66I1S', 5.0],\n",
       "   ['B004YMT85I', 5.0],\n",
       "   ['B00FGD8OCM', 5.0],\n",
       "   ['B00Z86V3ZM', 5.0],\n",
       "   ['B019EPSNT6', 5.0]])]"
      ]
     },
     "execution_count": 22,
     "metadata": {},
     "output_type": "execute_result"
    }
   ],
   "source": [
    "list(train_dict.items())[:10]"
   ]
  },
  {
   "cell_type": "code",
   "execution_count": 23,
   "id": "e7b53888",
   "metadata": {},
   "outputs": [
    {
     "data": {
      "text/plain": [
       "[('A12R54MKO17TW0',\n",
       "  [['B001PJ5SX4', 4.0],\n",
       "   ['B0019M3TWE', 5.0],\n",
       "   ['B001MD0GNK', 5.0],\n",
       "   ['B001FSB0C8', 5.0]]),\n",
       " ('A27P44I54RUMDC', [['0001388703', 5.0]]),\n",
       " ('A3INJI4T4U2JJS', [['0001526146', 5.0]]),\n",
       " ('A3FVAWZNKW9GX',\n",
       "  [['B000S56380', 5.0],\n",
       "   ['B001386SW2', 5.0],\n",
       "   ['B0010WLQXW', 5.0],\n",
       "   ['B001BHHTR8', 5.0],\n",
       "   ['B0011Z77TA', 5.0],\n",
       "   ['B000W15BBK', 5.0]]),\n",
       " ('A27SJD1VM73SMM', [['B00JG9PEI4', 5.0], ['0006920055', 5.0]]),\n",
       " ('A1BVU7F2T8EUKS', [['B004Z4ZN4A', 3.0]]),\n",
       " ('A16TZRNJAH1V0B', [['B008723K96', 5.0]]),\n",
       " ('A1U1V9U9IS8F5B', [['B00136NNN6', 5.0]]),\n",
       " ('A33KPK0QBSSDWS', [['B000TE0MYG', 5.0]]),\n",
       " ('A2TYZ821XXK2YZ',\n",
       "  [['3426958910', 5.0], ['B01DQ6ON70', 5.0], ['B01AUA1MC4', 5.0]])]"
      ]
     },
     "execution_count": 23,
     "metadata": {},
     "output_type": "execute_result"
    }
   ],
   "source": [
    "list(test_dict.items())[:10]"
   ]
  },
  {
   "cell_type": "code",
   "execution_count": null,
   "id": "7a8788fa",
   "metadata": {},
   "outputs": [],
   "source": []
  },
  {
   "cell_type": "code",
   "execution_count": null,
   "id": "8fded834",
   "metadata": {},
   "outputs": [],
   "source": []
  },
  {
   "cell_type": "code",
   "execution_count": null,
   "id": "546c64ed",
   "metadata": {},
   "outputs": [],
   "source": []
  },
  {
   "cell_type": "code",
   "execution_count": null,
   "id": "fd139310",
   "metadata": {},
   "outputs": [],
   "source": []
  },
  {
   "cell_type": "code",
   "execution_count": 24,
   "id": "70f789d8",
   "metadata": {},
   "outputs": [],
   "source": [
    "with open('test.json', 'w') as fp:\n",
    "    json.dump(test_dict, fp)"
   ]
  },
  {
   "cell_type": "code",
   "execution_count": 25,
   "id": "c1cec857",
   "metadata": {},
   "outputs": [],
   "source": [
    "with open('train.json', 'w') as fp:\n",
    "    json.dump(train_dict, fp)"
   ]
  },
  {
   "cell_type": "code",
   "execution_count": null,
   "id": "6a716f3c",
   "metadata": {},
   "outputs": [],
   "source": []
  }
 ],
 "metadata": {
  "kernelspec": {
   "display_name": "Python 3 (ipykernel)",
   "language": "python",
   "name": "python3"
  },
  "language_info": {
   "codemirror_mode": {
    "name": "ipython",
    "version": 3
   },
   "file_extension": ".py",
   "mimetype": "text/x-python",
   "name": "python",
   "nbconvert_exporter": "python",
   "pygments_lexer": "ipython3",
   "version": "3.9.7"
  }
 },
 "nbformat": 4,
 "nbformat_minor": 5
}
